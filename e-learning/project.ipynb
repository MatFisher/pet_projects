{
 "cells": [
  {
   "cell_type": "code",
   "execution_count": 1,
   "metadata": {},
   "outputs": [],
   "source": [
    "import pandas as pd\n",
    "import numpy as np\n",
    "import plotly.express as px\n",
    "\n",
    "%matplotlib inline"
   ]
  },
  {
   "cell_type": "markdown",
   "metadata": {},
   "source": [
    "### 0. Загрузка и первичная обработка данных"
   ]
  },
  {
   "cell_type": "code",
   "execution_count": 2,
   "metadata": {},
   "outputs": [],
   "source": [
    "#Информация об оценках в тесте\n",
    "scores = pd.read_csv('assessments.csv')\n",
    "scores = scores.rename(columns={'code_presentation':'semestr',\n",
    "                                'code_module':'course',\n",
    "                                'id_assessment':'id_test',\n",
    "                                'assessment_type':'check_type'})\n",
    "#Список предметов по семестрам\n",
    "courses = pd.read_csv('courses.csv')\n",
    "courses = courses.rename(columns={'code_presentation':'semestr',\n",
    "                                'code_module':'course',\n",
    "                                'module_presentation_length':'semestr_day'})\n",
    "#Результаты тестов студентов\n",
    "student_scores = pd.read_csv('studentAssessment.csv')\n",
    "student_scores = student_scores.rename(columns={'id_assessment':'id_test',\n",
    "                                'date_submitted':'test_date'})\n",
    "#Таблица регистрации студентов на курсы\n",
    "student_start = pd.read_csv('studentRegistration.csv')\n",
    "student_start = student_start.rename(columns={'code_presentation':'semestr',\n",
    "                                'code_module':'course',\n",
    "                                'date_registration':'date_reg',\n",
    "                                'date_unregistration':'date_unreg'})"
   ]
  },
  {
   "cell_type": "markdown",
   "metadata": {},
   "source": [
    "### 1. Сколько студентов успешно сдали только один курс? \n",
    "\n",
    "(Успешная сдача — это зачёт по курсу на экзамене - согласно таблице результатов тестов студентов порог 40 баллов)"
   ]
  },
  {
   "cell_type": "code",
   "execution_count": 3,
   "metadata": {},
   "outputs": [
    {
     "name": "stdout",
     "output_type": "stream",
     "text": [
      "3802 студента сдали только 1 экзамен\n"
     ]
    }
   ],
   "source": [
    "#Отбор только тестов типа \"Экзамен\"\n",
    "exams = scores.query('check_type ==\"Exam\"')[['id_test']]\n",
    "\n",
    "#Присоединим к полученным данным результаты успеваемости студентов, которые прошли порог в 40 баллов\n",
    "student_exams = exams.merge(student_scores, how='inner', on='id_test').query('score >= 40')\n",
    "\n",
    "#Создадим таблицу с данными о том, сколько курсов сдали студенты всего\n",
    "student_exams_count = student_exams.groupby('id_student').agg({'id_test':'count'})\n",
    "\n",
    "#Отберем из получившейся таблицы только тех, кто сдал всего 1 курс и посчитаем их количество\n",
    "result = student_exams_count.query('id_test == 1').count()\n",
    "print(result[0], 'студента сдали только 1 экзамен')"
   ]
  },
  {
   "cell_type": "markdown",
   "metadata": {},
   "source": [
    "### 2. Выявить самый сложный и самый простой курс\\экзамен\n",
    "\n",
    "(завершаемость = кол-во успешных экзаменов / кол-во всех попыток сдать экзамен)"
   ]
  },
  {
   "cell_type": "code",
   "execution_count": 4,
   "metadata": {},
   "outputs": [
    {
     "name": "stdout",
     "output_type": "stream",
     "text": [
      "Самые сложные курсы (ID): 15020 \n",
      "Самые легкие курсы (ID): 34879 34892 34896 34907 37429\n"
     ]
    }
   ],
   "source": [
    "#Подготовка (объединение) общих данных по оценкам в тесте и успеваемости студентов\n",
    "scores_students_data = scores.merge(student_scores, how='inner',on='id_test')\n",
    "\n",
    "#Выявление количества попыток сдачи тестов\n",
    "attempt_total = scores_students_data.groupby(['course', 'check_type','id_test'], as_index=False)\\\n",
    "    .agg({'semestr':'count'}).rename(columns={'semestr':'total_attempt'})\n",
    "    \n",
    "#Выявление количества успешных попыток сдачи тестов(преодолевшик 40-балльный порог)\n",
    "attempt_success = scores_students_data.query('score >= 40')\\\n",
    "    .groupby(['course', 'check_type','id_test'], as_index=False)\\\n",
    "    .agg({'semestr':'count'}).rename(columns={'semestr':'success_attempt'})\n",
    "    \n",
    "#Объединение полученных данных\n",
    "result_data = attempt_total.merge(attempt_success, how='inner', on=['course', 'check_type', 'id_test'])\n",
    "\n",
    "#Расчет уровня завершаемости\n",
    "result_data['close_course'] = round(result_data.success_attempt / result_data.total_attempt *100, 2)\n",
    "\n",
    "#Получение результатов\n",
    "hard = result_data.nsmallest(1, 'close_course', keep='all')['id_test'].to_list()\n",
    "easy = result_data.nlargest(1, 'close_course', keep='all')['id_test'].to_list()\n",
    "\n",
    "print('Самые сложные курсы (ID):', *hard, '\\nСамые легкие курсы (ID):', *easy)"
   ]
  },
  {
   "cell_type": "markdown",
   "metadata": {},
   "source": [
    "### 3. Определить по каждому предмету средний срок сдачи экзаменов\n",
    "\n",
    "(под сдачей понимаем последнее успешное прохождение экзамена студентом)"
   ]
  },
  {
   "cell_type": "code",
   "execution_count": 5,
   "metadata": {},
   "outputs": [
    {
     "name": "stdout",
     "output_type": "stream",
     "text": [
      "  course  mean_days\n",
      "0    AAA      193.0\n",
      "1    BBB      166.0\n",
      "2    CCC      172.0\n",
      "3    DDD      179.0\n",
      "4    EEE      138.0\n",
      "5    FFF      169.0\n",
      "6    GGG      195.0\n"
     ]
    }
   ],
   "source": [
    "#Общие данные по оценкам в тесте и успеваемости студентов были рассчитаны в разделе 2\n",
    "scores_students_data\n",
    "\n",
    "#Отбираем успешные сдачи\n",
    "success = scores_students_data.query('score >= 40 and is_banked == 0')\n",
    "\n",
    "#Выявляем для каждого студента максимальную дату сдачи курса\n",
    "success_max = success.groupby(['id_student','course'],as_index=False).agg({'test_date':'max'})\n",
    "\n",
    "#Определяем среднее количество дней для сдачи курса студентом\n",
    "avg_days = success_max.groupby('course', as_index=False).agg({'test_date':'mean'})\\\n",
    "    .rename(columns={'test_date':'mean_days'})\n",
    "avg_days['mean_days'] = avg_days.mean_days.apply(lambda x: round(x,0))\n",
    "\n",
    "print(avg_days)"
   ]
  },
  {
   "cell_type": "markdown",
   "metadata": {},
   "source": [
    "### 4. Выявить самые популярные предметы по количеству регистраций, \n",
    "### а также предметы с самым большим оттоком (ТОП-3)"
   ]
  },
  {
   "cell_type": "code",
   "execution_count": 6,
   "metadata": {},
   "outputs": [
    {
     "name": "stdout",
     "output_type": "stream",
     "text": [
      "Самые популярные курсы по кол-ву регистраций: BBB FFF DDD \n",
      "Курсы с самым большим оттоком: BBB FFF DDD\n"
     ]
    }
   ],
   "source": [
    "#Необходимые для решения данные содержатся в таблице регистрации студентов на курсы. \n",
    "# Определим какое количество студентов было записано на каждый курс\n",
    "courses_pop = student_start.groupby('course', as_index=False)\\\n",
    "    .agg({'id_student':'nunique'})\n",
    "\n",
    "#Отберем топ-3 популярных предмета по количеству регистраций\n",
    "top_popular = courses_pop.rename(columns={\"id_student\":\"student_count\"})\\\n",
    "    .sort_values('student_count', ascending=False).head(3)\n",
    "\n",
    "# Определим какое количество студентов аннулировали свои записи на каждом курсе\n",
    "courses_out = student_start[~student_start.isnull().any(axis=1)].groupby('course', as_index=False)\\\n",
    "    .agg({'id_student':'nunique'})\n",
    "\n",
    "#Отберем топ-3 предмета с самым большим оттоком\n",
    "top_out = courses_out.rename(columns={\"id_student\":\"student_count\"})\\\n",
    "    .sort_values('student_count', ascending=False).head(3)\n",
    "    \n",
    "print('Самые популярные курсы по кол-ву регистраций:', *top_popular['course'].to_list(), '\\nКурсы с самым большим оттоком:', *top_out['course'].to_list())"
   ]
  },
  {
   "cell_type": "markdown",
   "metadata": {},
   "source": [
    "### 5. Выявить семестры с самой низкой звершаемостью курсов, \n",
    "### а также самыми долгими средними сроками сдачи в период с начала 2013 по конец 2014\n",
    "\n",
    "(завершаемость = кол-во успешных экзаменов / кол-во всех попыток сдать экзамен)"
   ]
  },
  {
   "cell_type": "code",
   "execution_count": 7,
   "metadata": {},
   "outputs": [
    {
     "name": "stdout",
     "output_type": "stream",
     "text": [
      "Семестр с самой низкой завершаемостью курсов: 2014J\n",
      "Семестр с самыми долгими средними сроками сдачи курсов: 2013J\n"
     ]
    }
   ],
   "source": [
    "#Общие данные по курсам и успеваемости студентов были рассчитаны в разделе 2\n",
    "scores_students_data\n",
    "\n",
    "#Находим количество студентов, взявших курс в семестре\n",
    "total_students = scores_students_data.query('is_banked == 0')\\\n",
    "    .groupby('semestr', as_index=False)\\\n",
    "    .agg({'id_student':'count'}).rename(columns={'id_student':'students_total'})\n",
    "\n",
    "#Находим количество студентов, успешно прошедших курс в каждом семестре\n",
    "success_students = scores_students_data.query('is_banked == 0 and score>=40') \\\n",
    "                        .groupby(['semestr'], as_index=False) \\\n",
    "                        .agg({'id_student':'count'}) \\\n",
    "                        .rename(columns={'id_student':'students_success'})\n",
    "                        \n",
    "#Формируем итоговую таблицу на основании полученных данных\n",
    "result_final = total_students.merge(success_students, how = 'inner', on = 'semestr')\n",
    "\n",
    "#Вычисляем процент завершаемости курсов по семестрам\n",
    "result_final['close_percent'] = round(result_final.students_success / result_final.students_total *100, 0)\n",
    "\n",
    "print('Семестр с самой низкой завершаемостью курсов:', *result_final.nsmallest(1, 'close_percent', keep = 'all')['semestr'].to_list())\n",
    "\n",
    "#Вычисляем средние сроки сдачи курсов по семестрам\n",
    "long_courses = scores_students_data.query('is_banked == 0 and score>=40') \\\n",
    "                        .groupby('semestr', as_index=False) \\\n",
    "                        .agg({'test_date':'mean'})\\\n",
    "                        .sort_values('test_date', ascending=False)\n",
    "\n",
    "print('Семестр с самыми долгими средними сроками сдачи курсов:', *long_courses.nlargest(1, 'test_date', keep = 'all')['semestr'].to_list())"
   ]
  },
  {
   "cell_type": "markdown",
   "metadata": {},
   "source": [
    "### 6. Построение RFM - кластеров студентов для оценки аудитории\n",
    "\n",
    "R - среднее время сдачи одного курса, F - завершаемость курсов, M - среднее количество баллов, получаемое за экзамен"
   ]
  },
  {
   "cell_type": "code",
   "execution_count": 8,
   "metadata": {},
   "outputs": [
    {
     "data": {
      "text/html": [
       "<div>\n",
       "<style scoped>\n",
       "    .dataframe tbody tr th:only-of-type {\n",
       "        vertical-align: middle;\n",
       "    }\n",
       "\n",
       "    .dataframe tbody tr th {\n",
       "        vertical-align: top;\n",
       "    }\n",
       "\n",
       "    .dataframe thead th {\n",
       "        text-align: right;\n",
       "    }\n",
       "</style>\n",
       "<table border=\"1\" class=\"dataframe\">\n",
       "  <thead>\n",
       "    <tr style=\"text-align: right;\">\n",
       "      <th></th>\n",
       "      <th>id_student</th>\n",
       "      <th>Recency</th>\n",
       "      <th>Frequency</th>\n",
       "      <th>Monetary</th>\n",
       "    </tr>\n",
       "  </thead>\n",
       "  <tbody>\n",
       "    <tr>\n",
       "      <th>0</th>\n",
       "      <td>6516</td>\n",
       "      <td>112.0</td>\n",
       "      <td>100.0</td>\n",
       "      <td>62.0</td>\n",
       "    </tr>\n",
       "    <tr>\n",
       "      <th>1</th>\n",
       "      <td>8462</td>\n",
       "      <td>55.0</td>\n",
       "      <td>100.0</td>\n",
       "      <td>88.0</td>\n",
       "    </tr>\n",
       "    <tr>\n",
       "      <th>2</th>\n",
       "      <td>11391</td>\n",
       "      <td>112.0</td>\n",
       "      <td>100.0</td>\n",
       "      <td>82.0</td>\n",
       "    </tr>\n",
       "    <tr>\n",
       "      <th>3</th>\n",
       "      <td>23629</td>\n",
       "      <td>56.0</td>\n",
       "      <td>100.0</td>\n",
       "      <td>82.0</td>\n",
       "    </tr>\n",
       "    <tr>\n",
       "      <th>4</th>\n",
       "      <td>23698</td>\n",
       "      <td>133.0</td>\n",
       "      <td>100.0</td>\n",
       "      <td>74.0</td>\n",
       "    </tr>\n",
       "    <tr>\n",
       "      <th>...</th>\n",
       "      <td>...</td>\n",
       "      <td>...</td>\n",
       "      <td>...</td>\n",
       "      <td>...</td>\n",
       "    </tr>\n",
       "    <tr>\n",
       "      <th>22908</th>\n",
       "      <td>2698251</td>\n",
       "      <td>108.0</td>\n",
       "      <td>86.0</td>\n",
       "      <td>58.0</td>\n",
       "    </tr>\n",
       "    <tr>\n",
       "      <th>22909</th>\n",
       "      <td>2698257</td>\n",
       "      <td>116.0</td>\n",
       "      <td>100.0</td>\n",
       "      <td>68.0</td>\n",
       "    </tr>\n",
       "    <tr>\n",
       "      <th>22910</th>\n",
       "      <td>2698535</td>\n",
       "      <td>73.0</td>\n",
       "      <td>50.0</td>\n",
       "      <td>39.0</td>\n",
       "    </tr>\n",
       "    <tr>\n",
       "      <th>22911</th>\n",
       "      <td>2698577</td>\n",
       "      <td>106.0</td>\n",
       "      <td>100.0</td>\n",
       "      <td>64.0</td>\n",
       "    </tr>\n",
       "    <tr>\n",
       "      <th>22912</th>\n",
       "      <td>2698588</td>\n",
       "      <td>107.0</td>\n",
       "      <td>100.0</td>\n",
       "      <td>92.0</td>\n",
       "    </tr>\n",
       "  </tbody>\n",
       "</table>\n",
       "<p>22913 rows × 4 columns</p>\n",
       "</div>"
      ],
      "text/plain": [
       "       id_student  Recency  Frequency  Monetary\n",
       "0            6516    112.0      100.0      62.0\n",
       "1            8462     55.0      100.0      88.0\n",
       "2           11391    112.0      100.0      82.0\n",
       "3           23629     56.0      100.0      82.0\n",
       "4           23698    133.0      100.0      74.0\n",
       "...           ...      ...        ...       ...\n",
       "22908     2698251    108.0       86.0      58.0\n",
       "22909     2698257    116.0      100.0      68.0\n",
       "22910     2698535     73.0       50.0      39.0\n",
       "22911     2698577    106.0      100.0      64.0\n",
       "22912     2698588    107.0      100.0      92.0\n",
       "\n",
       "[22913 rows x 4 columns]"
      ]
     },
     "execution_count": 8,
     "metadata": {},
     "output_type": "execute_result"
    }
   ],
   "source": [
    "#Рассчет основных показателей для кластеризации\n",
    "# Расчет среднего времени сдачи одного курса (recency)\n",
    "recency = scores_students_data.query('is_banked == 0 and score >= 40') \\\n",
    "                    .groupby('id_student', as_index = False) \\\n",
    "                    .agg({'test_date':'mean'}) \\\n",
    "                    .rename(columns={'test_date' : 'Recency'})\\\n",
    "                    \n",
    "# Расчет звершаемости курсов (frequency)\n",
    "frequency = scores_students_data.query('is_banked == 0 and score >= 40') \\\n",
    "                    .groupby('id_student', as_index = False) \\\n",
    "                    .agg({'id_test':'count'}) \\\n",
    "                    .rename(columns = {'id_test':'count_success'}) \\\n",
    ".merge(scores_students_data.query('is_banked == 0') \\\n",
    "                    .groupby('id_student', as_index = False) \\\n",
    "                    .agg({'id_test':'count'}) \\\n",
    "                    .rename(columns = {'id_test':'count_total'}),\n",
    "     how = 'inner', on ='id_student') \n",
    "frequency = frequency.assign( Frequency = frequency.count_success/frequency.count_total*100)\n",
    "\n",
    "# Расчет среднего количества баллов за тест\\экзамен (monetary)\n",
    "monetary = scores_students_data.query('is_banked == 0') \\\n",
    "                    .groupby('id_student', as_index = False) \\\n",
    "                    .agg({'score':'mean'}) \\\n",
    "                    .rename(columns = {'score':'Monetary'})\n",
    "                    \n",
    "#Объединение полученных данных в таблицу\n",
    "rfm = recency.merge(frequency, how = 'inner', on = 'id_student') \\\n",
    "               .merge(monetary, how = 'inner', on = 'id_student') \\\n",
    "               [['id_student', 'Recency', 'Frequency', 'Monetary']]\n",
    "               \n",
    "rfm = np.round(rfm, 0)\n",
    "rfm"
   ]
  },
  {
   "cell_type": "code",
   "execution_count": 9,
   "metadata": {},
   "outputs": [
    {
     "data": {
      "text/plain": [
       "{'Recency': 110.0, 'Frequency': 100.0, 'Monetary': 76.0}"
      ]
     },
     "execution_count": 9,
     "metadata": {},
     "output_type": "execute_result"
    }
   ],
   "source": [
    "#Разбиваем данные на диапазоны. Для начального понимания аудитории \n",
    "# используем разбивку по 2 группы на каждый показатель\n",
    "quantiles = rfm[['Recency', 'Frequency', 'Monetary']].quantile(0.5).to_dict()\n",
    "quantiles"
   ]
  },
  {
   "cell_type": "code",
   "execution_count": 10,
   "metadata": {},
   "outputs": [
    {
     "data": {
      "text/plain": [
       "Frequency\n",
       "100.0    18353\n",
       "80.0       739\n",
       "50.0       377\n",
       "86.0       369\n",
       "67.0       368\n",
       "         ...  \n",
       "46.0         1\n",
       "76.0         1\n",
       "36.0         1\n",
       "68.0         1\n",
       "74.0         1\n",
       "Name: count, Length: 62, dtype: int64"
      ]
     },
     "execution_count": 10,
     "metadata": {},
     "output_type": "execute_result"
    }
   ],
   "source": [
    "rfm.Frequency.value_counts()"
   ]
  },
  {
   "cell_type": "markdown",
   "metadata": {},
   "source": [
    "Ввиду неприменимости среднего к показателю Frequency из-за \n",
    "абсолютного большинства студентов со 100% завершаемостью курсов, \n",
    "ранги по ней будут следующие: \n",
    "\n",
    "1(True) - всё сдано на 100%; \n",
    "\n",
    "0(False) - часть курсов не сдана. \n",
    "\n",
    "Остальные метрики будут рассчитываться как \n",
    "\n",
    "0(False) - меньше среднего значения; \n",
    "\n",
    "1(True) - больше среднего значения."
   ]
  },
  {
   "cell_type": "code",
   "execution_count": 11,
   "metadata": {},
   "outputs": [
    {
     "data": {
      "text/html": [
       "<div>\n",
       "<style scoped>\n",
       "    .dataframe tbody tr th:only-of-type {\n",
       "        vertical-align: middle;\n",
       "    }\n",
       "\n",
       "    .dataframe tbody tr th {\n",
       "        vertical-align: top;\n",
       "    }\n",
       "\n",
       "    .dataframe thead th {\n",
       "        text-align: right;\n",
       "    }\n",
       "</style>\n",
       "<table border=\"1\" class=\"dataframe\">\n",
       "  <thead>\n",
       "    <tr style=\"text-align: right;\">\n",
       "      <th></th>\n",
       "      <th>id_student</th>\n",
       "      <th>Recency</th>\n",
       "      <th>Frequency</th>\n",
       "      <th>Monetary</th>\n",
       "      <th>R</th>\n",
       "      <th>F</th>\n",
       "      <th>M</th>\n",
       "    </tr>\n",
       "  </thead>\n",
       "  <tbody>\n",
       "    <tr>\n",
       "      <th>0</th>\n",
       "      <td>6516</td>\n",
       "      <td>112.0</td>\n",
       "      <td>100.0</td>\n",
       "      <td>62.0</td>\n",
       "      <td>True</td>\n",
       "      <td>True</td>\n",
       "      <td>False</td>\n",
       "    </tr>\n",
       "    <tr>\n",
       "      <th>1</th>\n",
       "      <td>8462</td>\n",
       "      <td>55.0</td>\n",
       "      <td>100.0</td>\n",
       "      <td>88.0</td>\n",
       "      <td>False</td>\n",
       "      <td>True</td>\n",
       "      <td>False</td>\n",
       "    </tr>\n",
       "    <tr>\n",
       "      <th>2</th>\n",
       "      <td>11391</td>\n",
       "      <td>112.0</td>\n",
       "      <td>100.0</td>\n",
       "      <td>82.0</td>\n",
       "      <td>True</td>\n",
       "      <td>True</td>\n",
       "      <td>False</td>\n",
       "    </tr>\n",
       "    <tr>\n",
       "      <th>3</th>\n",
       "      <td>23629</td>\n",
       "      <td>56.0</td>\n",
       "      <td>100.0</td>\n",
       "      <td>82.0</td>\n",
       "      <td>False</td>\n",
       "      <td>True</td>\n",
       "      <td>False</td>\n",
       "    </tr>\n",
       "    <tr>\n",
       "      <th>4</th>\n",
       "      <td>23698</td>\n",
       "      <td>133.0</td>\n",
       "      <td>100.0</td>\n",
       "      <td>74.0</td>\n",
       "      <td>True</td>\n",
       "      <td>True</td>\n",
       "      <td>False</td>\n",
       "    </tr>\n",
       "  </tbody>\n",
       "</table>\n",
       "</div>"
      ],
      "text/plain": [
       "   id_student  Recency  Frequency  Monetary      R     F      M\n",
       "0        6516    112.0      100.0      62.0   True  True  False\n",
       "1        8462     55.0      100.0      88.0  False  True  False\n",
       "2       11391    112.0      100.0      82.0   True  True  False\n",
       "3       23629     56.0      100.0      82.0  False  True  False\n",
       "4       23698    133.0      100.0      74.0   True  True  False"
      ]
     },
     "execution_count": 11,
     "metadata": {},
     "output_type": "execute_result"
    }
   ],
   "source": [
    "# Присвоим ранги для Recency (0 лучше чем 1)\n",
    "rfm['R'] = rfm.Recency.apply(lambda x: x > quantiles['Recency'])\n",
    "\n",
    "# Присвоим ранги для Frequency (1 лучше чем 0)\n",
    "rfm['F'] = rfm.Frequency.apply(lambda x: x == quantiles['Frequency'])\n",
    "\n",
    "# Присвоим ранги для Monetary (1 лучше чем 0)\n",
    "rfm['M'] = rfm.Monetary.apply(lambda x: x == quantiles['Monetary'])\n",
    "\n",
    "rfm.head()"
   ]
  },
  {
   "cell_type": "markdown",
   "metadata": {},
   "source": [
    "Далее необходимо разбить студентов по сегментам, в зависимости от полученных рангов. В качестве самого удобного решения для данной задачи будет создан отдельный столбец с текстовым описанием ранга, которое будет присваиваться в зависимости от комбинации оценок."
   ]
  },
  {
   "cell_type": "code",
   "execution_count": 12,
   "metadata": {},
   "outputs": [
    {
     "data": {
      "text/html": [
       "<div>\n",
       "<style scoped>\n",
       "    .dataframe tbody tr th:only-of-type {\n",
       "        vertical-align: middle;\n",
       "    }\n",
       "\n",
       "    .dataframe tbody tr th {\n",
       "        vertical-align: top;\n",
       "    }\n",
       "\n",
       "    .dataframe thead th {\n",
       "        text-align: right;\n",
       "    }\n",
       "</style>\n",
       "<table border=\"1\" class=\"dataframe\">\n",
       "  <thead>\n",
       "    <tr style=\"text-align: right;\">\n",
       "      <th></th>\n",
       "      <th>id_student</th>\n",
       "      <th>Recency</th>\n",
       "      <th>Frequency</th>\n",
       "      <th>Monetary</th>\n",
       "      <th>R</th>\n",
       "      <th>F</th>\n",
       "      <th>M</th>\n",
       "      <th>Rang</th>\n",
       "    </tr>\n",
       "  </thead>\n",
       "  <tbody>\n",
       "    <tr>\n",
       "      <th>0</th>\n",
       "      <td>6516</td>\n",
       "      <td>112.0</td>\n",
       "      <td>100.0</td>\n",
       "      <td>62.0</td>\n",
       "      <td>True</td>\n",
       "      <td>True</td>\n",
       "      <td>False</td>\n",
       "      <td>Удовлетворительно</td>\n",
       "    </tr>\n",
       "    <tr>\n",
       "      <th>1</th>\n",
       "      <td>8462</td>\n",
       "      <td>55.0</td>\n",
       "      <td>100.0</td>\n",
       "      <td>88.0</td>\n",
       "      <td>False</td>\n",
       "      <td>True</td>\n",
       "      <td>False</td>\n",
       "      <td>Потенциальный хорошист</td>\n",
       "    </tr>\n",
       "    <tr>\n",
       "      <th>2</th>\n",
       "      <td>11391</td>\n",
       "      <td>112.0</td>\n",
       "      <td>100.0</td>\n",
       "      <td>82.0</td>\n",
       "      <td>True</td>\n",
       "      <td>True</td>\n",
       "      <td>False</td>\n",
       "      <td>Удовлетворительно</td>\n",
       "    </tr>\n",
       "    <tr>\n",
       "      <th>3</th>\n",
       "      <td>23629</td>\n",
       "      <td>56.0</td>\n",
       "      <td>100.0</td>\n",
       "      <td>82.0</td>\n",
       "      <td>False</td>\n",
       "      <td>True</td>\n",
       "      <td>False</td>\n",
       "      <td>Потенциальный хорошист</td>\n",
       "    </tr>\n",
       "    <tr>\n",
       "      <th>4</th>\n",
       "      <td>23698</td>\n",
       "      <td>133.0</td>\n",
       "      <td>100.0</td>\n",
       "      <td>74.0</td>\n",
       "      <td>True</td>\n",
       "      <td>True</td>\n",
       "      <td>False</td>\n",
       "      <td>Удовлетворительно</td>\n",
       "    </tr>\n",
       "  </tbody>\n",
       "</table>\n",
       "</div>"
      ],
      "text/plain": [
       "   id_student  Recency  Frequency  Monetary      R     F      M  \\\n",
       "0        6516    112.0      100.0      62.0   True  True  False   \n",
       "1        8462     55.0      100.0      88.0  False  True  False   \n",
       "2       11391    112.0      100.0      82.0   True  True  False   \n",
       "3       23629     56.0      100.0      82.0  False  True  False   \n",
       "4       23698    133.0      100.0      74.0   True  True  False   \n",
       "\n",
       "                     Rang  \n",
       "0       Удовлетворительно  \n",
       "1  Потенциальный хорошист  \n",
       "2       Удовлетворительно  \n",
       "3  Потенциальный хорошист  \n",
       "4       Удовлетворительно  "
      ]
     },
     "execution_count": 12,
     "metadata": {},
     "output_type": "execute_result"
    }
   ],
   "source": [
    "#Создаем столбец с рангами\n",
    "rfm['Rang'] = rfm['R'].map(str) + rfm['F'].map(str) + rfm['M'].map(str)\n",
    "\n",
    "#Создаем словарь с текстовыми описаниями рангов для комбинаций оценок\n",
    "rang_map = {\n",
    "    r'FalseFalseFalse': 'Потенциальный отстающий', \n",
    "    r'FalseFalseTrue': 'Хорошист', \n",
    "    r'FalseTrueFalse': 'Потенциальный хорошист', \n",
    "    r'FalseTrueTrue': 'Отличник учебы', \n",
    "    r'TrueFalseFalse': 'Сильно отстающий', \n",
    "    r'TrueFalseTrue': 'Отстающий', \n",
    "    r'TrueTrueFalse': 'Удовлетворительно', \n",
    "    r'TrueTrueTrue': 'Потенциальный отличник учебы'} \n",
    "rfm\n",
    "\n",
    "#Заменяем комбинации оценок на описания рангов\n",
    "rfm['Rang'] = rfm['Rang'].replace(rang_map, regex=True)\n",
    "rfm.head()"
   ]
  },
  {
   "cell_type": "code",
   "execution_count": 13,
   "metadata": {},
   "outputs": [
    {
     "data": {
      "text/html": [
       "<div>\n",
       "<style scoped>\n",
       "    .dataframe tbody tr th:only-of-type {\n",
       "        vertical-align: middle;\n",
       "    }\n",
       "\n",
       "    .dataframe tbody tr th {\n",
       "        vertical-align: top;\n",
       "    }\n",
       "\n",
       "    .dataframe thead th {\n",
       "        text-align: right;\n",
       "    }\n",
       "</style>\n",
       "<table border=\"1\" class=\"dataframe\">\n",
       "  <thead>\n",
       "    <tr style=\"text-align: right;\">\n",
       "      <th></th>\n",
       "      <th>Rang</th>\n",
       "      <th>count_student</th>\n",
       "      <th>Percent</th>\n",
       "    </tr>\n",
       "  </thead>\n",
       "  <tbody>\n",
       "    <tr>\n",
       "      <th>6</th>\n",
       "      <td>Удовлетворительно</td>\n",
       "      <td>9020</td>\n",
       "      <td>39.4</td>\n",
       "    </tr>\n",
       "    <tr>\n",
       "      <th>4</th>\n",
       "      <td>Потенциальный хорошист</td>\n",
       "      <td>8671</td>\n",
       "      <td>37.8</td>\n",
       "    </tr>\n",
       "    <tr>\n",
       "      <th>3</th>\n",
       "      <td>Потенциальный отстающий</td>\n",
       "      <td>2582</td>\n",
       "      <td>11.3</td>\n",
       "    </tr>\n",
       "    <tr>\n",
       "      <th>5</th>\n",
       "      <td>Сильно отстающий</td>\n",
       "      <td>1923</td>\n",
       "      <td>8.4</td>\n",
       "    </tr>\n",
       "    <tr>\n",
       "      <th>2</th>\n",
       "      <td>Потенциальный отличник учебы</td>\n",
       "      <td>341</td>\n",
       "      <td>1.5</td>\n",
       "    </tr>\n",
       "    <tr>\n",
       "      <th>0</th>\n",
       "      <td>Отличник учебы</td>\n",
       "      <td>321</td>\n",
       "      <td>1.4</td>\n",
       "    </tr>\n",
       "    <tr>\n",
       "      <th>1</th>\n",
       "      <td>Отстающий</td>\n",
       "      <td>30</td>\n",
       "      <td>0.1</td>\n",
       "    </tr>\n",
       "    <tr>\n",
       "      <th>7</th>\n",
       "      <td>Хорошист</td>\n",
       "      <td>25</td>\n",
       "      <td>0.1</td>\n",
       "    </tr>\n",
       "  </tbody>\n",
       "</table>\n",
       "</div>"
      ],
      "text/plain": [
       "                           Rang  count_student  Percent\n",
       "6             Удовлетворительно           9020     39.4\n",
       "4        Потенциальный хорошист           8671     37.8\n",
       "3       Потенциальный отстающий           2582     11.3\n",
       "5              Сильно отстающий           1923      8.4\n",
       "2  Потенциальный отличник учебы            341      1.5\n",
       "0                Отличник учебы            321      1.4\n",
       "1                     Отстающий             30      0.1\n",
       "7                      Хорошист             25      0.1"
      ]
     },
     "execution_count": 13,
     "metadata": {},
     "output_type": "execute_result"
    }
   ],
   "source": [
    "# посчитаем кол-во студентов в получившихся сегментах и построим диаграмму\n",
    "\n",
    "segment_by = rfm.groupby('Rang', as_index=False)  \\\n",
    "                .agg({'id_student':'count'}) \\\n",
    "                .rename(columns={'id_student':'count_student'}) \\\n",
    "                .sort_values('count_student', ascending=False)\n",
    "                \n",
    "#Создадим колонку с разбивкой по процентам от общего числа студентов\n",
    "segment_by['Percent'] = round(segment_by.count_student / sum(segment_by.count_student)*100, 1)\n",
    "\n",
    "segment_by"
   ]
  },
  {
   "cell_type": "code",
   "execution_count": 14,
   "metadata": {},
   "outputs": [
    {
     "data": {
      "application/vnd.plotly.v1+json": {
       "config": {
        "plotlyServerURL": "https://plot.ly"
       },
       "data": [
        {
         "branchvalues": "total",
         "domain": {
          "x": [
           0,
           1
          ],
          "y": [
           0,
           1
          ]
         },
         "hovertemplate": "labels=%{label}<br>count_student=%{value}<br>parent=%{parent}<br>id=%{id}<extra></extra>",
         "ids": [
          "Отличник учебы",
          "Отстающий",
          "Потенциальный отличник учебы",
          "Потенциальный отстающий",
          "Потенциальный хорошист",
          "Сильно отстающий",
          "Удовлетворительно",
          "Хорошист"
         ],
         "labels": [
          "Отличник учебы",
          "Отстающий",
          "Потенциальный отличник учебы",
          "Потенциальный отстающий",
          "Потенциальный хорошист",
          "Сильно отстающий",
          "Удовлетворительно",
          "Хорошист"
         ],
         "name": "",
         "parents": [
          "",
          "",
          "",
          "",
          "",
          "",
          "",
          ""
         ],
         "type": "treemap",
         "values": [
          321,
          30,
          341,
          2582,
          8671,
          1923,
          9020,
          25
         ]
        }
       ],
       "layout": {
        "height": 500,
        "legend": {
         "tracegroupgap": 0
        },
        "margin": {
         "t": 60
        },
        "template": {
         "data": {
          "bar": [
           {
            "error_x": {
             "color": "#2a3f5f"
            },
            "error_y": {
             "color": "#2a3f5f"
            },
            "marker": {
             "line": {
              "color": "#E5ECF6",
              "width": 0.5
             },
             "pattern": {
              "fillmode": "overlay",
              "size": 10,
              "solidity": 0.2
             }
            },
            "type": "bar"
           }
          ],
          "barpolar": [
           {
            "marker": {
             "line": {
              "color": "#E5ECF6",
              "width": 0.5
             },
             "pattern": {
              "fillmode": "overlay",
              "size": 10,
              "solidity": 0.2
             }
            },
            "type": "barpolar"
           }
          ],
          "carpet": [
           {
            "aaxis": {
             "endlinecolor": "#2a3f5f",
             "gridcolor": "white",
             "linecolor": "white",
             "minorgridcolor": "white",
             "startlinecolor": "#2a3f5f"
            },
            "baxis": {
             "endlinecolor": "#2a3f5f",
             "gridcolor": "white",
             "linecolor": "white",
             "minorgridcolor": "white",
             "startlinecolor": "#2a3f5f"
            },
            "type": "carpet"
           }
          ],
          "choropleth": [
           {
            "colorbar": {
             "outlinewidth": 0,
             "ticks": ""
            },
            "type": "choropleth"
           }
          ],
          "contour": [
           {
            "colorbar": {
             "outlinewidth": 0,
             "ticks": ""
            },
            "colorscale": [
             [
              0,
              "#0d0887"
             ],
             [
              0.1111111111111111,
              "#46039f"
             ],
             [
              0.2222222222222222,
              "#7201a8"
             ],
             [
              0.3333333333333333,
              "#9c179e"
             ],
             [
              0.4444444444444444,
              "#bd3786"
             ],
             [
              0.5555555555555556,
              "#d8576b"
             ],
             [
              0.6666666666666666,
              "#ed7953"
             ],
             [
              0.7777777777777778,
              "#fb9f3a"
             ],
             [
              0.8888888888888888,
              "#fdca26"
             ],
             [
              1,
              "#f0f921"
             ]
            ],
            "type": "contour"
           }
          ],
          "contourcarpet": [
           {
            "colorbar": {
             "outlinewidth": 0,
             "ticks": ""
            },
            "type": "contourcarpet"
           }
          ],
          "heatmap": [
           {
            "colorbar": {
             "outlinewidth": 0,
             "ticks": ""
            },
            "colorscale": [
             [
              0,
              "#0d0887"
             ],
             [
              0.1111111111111111,
              "#46039f"
             ],
             [
              0.2222222222222222,
              "#7201a8"
             ],
             [
              0.3333333333333333,
              "#9c179e"
             ],
             [
              0.4444444444444444,
              "#bd3786"
             ],
             [
              0.5555555555555556,
              "#d8576b"
             ],
             [
              0.6666666666666666,
              "#ed7953"
             ],
             [
              0.7777777777777778,
              "#fb9f3a"
             ],
             [
              0.8888888888888888,
              "#fdca26"
             ],
             [
              1,
              "#f0f921"
             ]
            ],
            "type": "heatmap"
           }
          ],
          "heatmapgl": [
           {
            "colorbar": {
             "outlinewidth": 0,
             "ticks": ""
            },
            "colorscale": [
             [
              0,
              "#0d0887"
             ],
             [
              0.1111111111111111,
              "#46039f"
             ],
             [
              0.2222222222222222,
              "#7201a8"
             ],
             [
              0.3333333333333333,
              "#9c179e"
             ],
             [
              0.4444444444444444,
              "#bd3786"
             ],
             [
              0.5555555555555556,
              "#d8576b"
             ],
             [
              0.6666666666666666,
              "#ed7953"
             ],
             [
              0.7777777777777778,
              "#fb9f3a"
             ],
             [
              0.8888888888888888,
              "#fdca26"
             ],
             [
              1,
              "#f0f921"
             ]
            ],
            "type": "heatmapgl"
           }
          ],
          "histogram": [
           {
            "marker": {
             "pattern": {
              "fillmode": "overlay",
              "size": 10,
              "solidity": 0.2
             }
            },
            "type": "histogram"
           }
          ],
          "histogram2d": [
           {
            "colorbar": {
             "outlinewidth": 0,
             "ticks": ""
            },
            "colorscale": [
             [
              0,
              "#0d0887"
             ],
             [
              0.1111111111111111,
              "#46039f"
             ],
             [
              0.2222222222222222,
              "#7201a8"
             ],
             [
              0.3333333333333333,
              "#9c179e"
             ],
             [
              0.4444444444444444,
              "#bd3786"
             ],
             [
              0.5555555555555556,
              "#d8576b"
             ],
             [
              0.6666666666666666,
              "#ed7953"
             ],
             [
              0.7777777777777778,
              "#fb9f3a"
             ],
             [
              0.8888888888888888,
              "#fdca26"
             ],
             [
              1,
              "#f0f921"
             ]
            ],
            "type": "histogram2d"
           }
          ],
          "histogram2dcontour": [
           {
            "colorbar": {
             "outlinewidth": 0,
             "ticks": ""
            },
            "colorscale": [
             [
              0,
              "#0d0887"
             ],
             [
              0.1111111111111111,
              "#46039f"
             ],
             [
              0.2222222222222222,
              "#7201a8"
             ],
             [
              0.3333333333333333,
              "#9c179e"
             ],
             [
              0.4444444444444444,
              "#bd3786"
             ],
             [
              0.5555555555555556,
              "#d8576b"
             ],
             [
              0.6666666666666666,
              "#ed7953"
             ],
             [
              0.7777777777777778,
              "#fb9f3a"
             ],
             [
              0.8888888888888888,
              "#fdca26"
             ],
             [
              1,
              "#f0f921"
             ]
            ],
            "type": "histogram2dcontour"
           }
          ],
          "mesh3d": [
           {
            "colorbar": {
             "outlinewidth": 0,
             "ticks": ""
            },
            "type": "mesh3d"
           }
          ],
          "parcoords": [
           {
            "line": {
             "colorbar": {
              "outlinewidth": 0,
              "ticks": ""
             }
            },
            "type": "parcoords"
           }
          ],
          "pie": [
           {
            "automargin": true,
            "type": "pie"
           }
          ],
          "scatter": [
           {
            "fillpattern": {
             "fillmode": "overlay",
             "size": 10,
             "solidity": 0.2
            },
            "type": "scatter"
           }
          ],
          "scatter3d": [
           {
            "line": {
             "colorbar": {
              "outlinewidth": 0,
              "ticks": ""
             }
            },
            "marker": {
             "colorbar": {
              "outlinewidth": 0,
              "ticks": ""
             }
            },
            "type": "scatter3d"
           }
          ],
          "scattercarpet": [
           {
            "marker": {
             "colorbar": {
              "outlinewidth": 0,
              "ticks": ""
             }
            },
            "type": "scattercarpet"
           }
          ],
          "scattergeo": [
           {
            "marker": {
             "colorbar": {
              "outlinewidth": 0,
              "ticks": ""
             }
            },
            "type": "scattergeo"
           }
          ],
          "scattergl": [
           {
            "marker": {
             "colorbar": {
              "outlinewidth": 0,
              "ticks": ""
             }
            },
            "type": "scattergl"
           }
          ],
          "scattermapbox": [
           {
            "marker": {
             "colorbar": {
              "outlinewidth": 0,
              "ticks": ""
             }
            },
            "type": "scattermapbox"
           }
          ],
          "scatterpolar": [
           {
            "marker": {
             "colorbar": {
              "outlinewidth": 0,
              "ticks": ""
             }
            },
            "type": "scatterpolar"
           }
          ],
          "scatterpolargl": [
           {
            "marker": {
             "colorbar": {
              "outlinewidth": 0,
              "ticks": ""
             }
            },
            "type": "scatterpolargl"
           }
          ],
          "scatterternary": [
           {
            "marker": {
             "colorbar": {
              "outlinewidth": 0,
              "ticks": ""
             }
            },
            "type": "scatterternary"
           }
          ],
          "surface": [
           {
            "colorbar": {
             "outlinewidth": 0,
             "ticks": ""
            },
            "colorscale": [
             [
              0,
              "#0d0887"
             ],
             [
              0.1111111111111111,
              "#46039f"
             ],
             [
              0.2222222222222222,
              "#7201a8"
             ],
             [
              0.3333333333333333,
              "#9c179e"
             ],
             [
              0.4444444444444444,
              "#bd3786"
             ],
             [
              0.5555555555555556,
              "#d8576b"
             ],
             [
              0.6666666666666666,
              "#ed7953"
             ],
             [
              0.7777777777777778,
              "#fb9f3a"
             ],
             [
              0.8888888888888888,
              "#fdca26"
             ],
             [
              1,
              "#f0f921"
             ]
            ],
            "type": "surface"
           }
          ],
          "table": [
           {
            "cells": {
             "fill": {
              "color": "#EBF0F8"
             },
             "line": {
              "color": "white"
             }
            },
            "header": {
             "fill": {
              "color": "#C8D4E3"
             },
             "line": {
              "color": "white"
             }
            },
            "type": "table"
           }
          ]
         },
         "layout": {
          "annotationdefaults": {
           "arrowcolor": "#2a3f5f",
           "arrowhead": 0,
           "arrowwidth": 1
          },
          "autotypenumbers": "strict",
          "coloraxis": {
           "colorbar": {
            "outlinewidth": 0,
            "ticks": ""
           }
          },
          "colorscale": {
           "diverging": [
            [
             0,
             "#8e0152"
            ],
            [
             0.1,
             "#c51b7d"
            ],
            [
             0.2,
             "#de77ae"
            ],
            [
             0.3,
             "#f1b6da"
            ],
            [
             0.4,
             "#fde0ef"
            ],
            [
             0.5,
             "#f7f7f7"
            ],
            [
             0.6,
             "#e6f5d0"
            ],
            [
             0.7,
             "#b8e186"
            ],
            [
             0.8,
             "#7fbc41"
            ],
            [
             0.9,
             "#4d9221"
            ],
            [
             1,
             "#276419"
            ]
           ],
           "sequential": [
            [
             0,
             "#0d0887"
            ],
            [
             0.1111111111111111,
             "#46039f"
            ],
            [
             0.2222222222222222,
             "#7201a8"
            ],
            [
             0.3333333333333333,
             "#9c179e"
            ],
            [
             0.4444444444444444,
             "#bd3786"
            ],
            [
             0.5555555555555556,
             "#d8576b"
            ],
            [
             0.6666666666666666,
             "#ed7953"
            ],
            [
             0.7777777777777778,
             "#fb9f3a"
            ],
            [
             0.8888888888888888,
             "#fdca26"
            ],
            [
             1,
             "#f0f921"
            ]
           ],
           "sequentialminus": [
            [
             0,
             "#0d0887"
            ],
            [
             0.1111111111111111,
             "#46039f"
            ],
            [
             0.2222222222222222,
             "#7201a8"
            ],
            [
             0.3333333333333333,
             "#9c179e"
            ],
            [
             0.4444444444444444,
             "#bd3786"
            ],
            [
             0.5555555555555556,
             "#d8576b"
            ],
            [
             0.6666666666666666,
             "#ed7953"
            ],
            [
             0.7777777777777778,
             "#fb9f3a"
            ],
            [
             0.8888888888888888,
             "#fdca26"
            ],
            [
             1,
             "#f0f921"
            ]
           ]
          },
          "colorway": [
           "#636efa",
           "#EF553B",
           "#00cc96",
           "#ab63fa",
           "#FFA15A",
           "#19d3f3",
           "#FF6692",
           "#B6E880",
           "#FF97FF",
           "#FECB52"
          ],
          "font": {
           "color": "#2a3f5f"
          },
          "geo": {
           "bgcolor": "white",
           "lakecolor": "white",
           "landcolor": "#E5ECF6",
           "showlakes": true,
           "showland": true,
           "subunitcolor": "white"
          },
          "hoverlabel": {
           "align": "left"
          },
          "hovermode": "closest",
          "mapbox": {
           "style": "light"
          },
          "paper_bgcolor": "white",
          "plot_bgcolor": "#E5ECF6",
          "polar": {
           "angularaxis": {
            "gridcolor": "white",
            "linecolor": "white",
            "ticks": ""
           },
           "bgcolor": "#E5ECF6",
           "radialaxis": {
            "gridcolor": "white",
            "linecolor": "white",
            "ticks": ""
           }
          },
          "scene": {
           "xaxis": {
            "backgroundcolor": "#E5ECF6",
            "gridcolor": "white",
            "gridwidth": 2,
            "linecolor": "white",
            "showbackground": true,
            "ticks": "",
            "zerolinecolor": "white"
           },
           "yaxis": {
            "backgroundcolor": "#E5ECF6",
            "gridcolor": "white",
            "gridwidth": 2,
            "linecolor": "white",
            "showbackground": true,
            "ticks": "",
            "zerolinecolor": "white"
           },
           "zaxis": {
            "backgroundcolor": "#E5ECF6",
            "gridcolor": "white",
            "gridwidth": 2,
            "linecolor": "white",
            "showbackground": true,
            "ticks": "",
            "zerolinecolor": "white"
           }
          },
          "shapedefaults": {
           "line": {
            "color": "#2a3f5f"
           }
          },
          "ternary": {
           "aaxis": {
            "gridcolor": "white",
            "linecolor": "white",
            "ticks": ""
           },
           "baxis": {
            "gridcolor": "white",
            "linecolor": "white",
            "ticks": ""
           },
           "bgcolor": "#E5ECF6",
           "caxis": {
            "gridcolor": "white",
            "linecolor": "white",
            "ticks": ""
           }
          },
          "title": {
           "x": 0.05
          },
          "xaxis": {
           "automargin": true,
           "gridcolor": "white",
           "linecolor": "white",
           "ticks": "",
           "title": {
            "standoff": 15
           },
           "zerolinecolor": "white",
           "zerolinewidth": 2
          },
          "yaxis": {
           "automargin": true,
           "gridcolor": "white",
           "linecolor": "white",
           "ticks": "",
           "title": {
            "standoff": 15
           },
           "zerolinecolor": "white",
           "zerolinewidth": 2
          }
         }
        },
        "title": {
         "text": "Tree map of Segments"
        },
        "width": 700
       }
      }
     },
     "metadata": {},
     "output_type": "display_data"
    }
   ],
   "source": [
    "#Построим график\n",
    "fig = px.treemap(segment_by, path=['Rang'], values='count_student')\n",
    "fig.update_layout(title=\"Tree map of Segments\", width=700, height=500,)\n",
    "fig.show()"
   ]
  }
 ],
 "metadata": {
  "kernelspec": {
   "display_name": "Python 3",
   "language": "python",
   "name": "python3"
  },
  "language_info": {
   "codemirror_mode": {
    "name": "ipython",
    "version": 3
   },
   "file_extension": ".py",
   "mimetype": "text/x-python",
   "name": "python",
   "nbconvert_exporter": "python",
   "pygments_lexer": "ipython3",
   "version": "3.11.9"
  }
 },
 "nbformat": 4,
 "nbformat_minor": 2
}
